{
 "cells": [
  {
   "cell_type": "markdown",
   "metadata": {},
   "source": [
    "<hr/>\n",
    "\n",
    "# EN.520.637 Foundations of Reinforcement Learning\n",
    "\n",
    "<hr/>"
   ]
  },
  {
   "cell_type": "markdown",
   "metadata": {},
   "source": [
    "<h1><font color=\"darkblue\">Lab 4: SARSA and Q-learning  </font></h1>\n",
    "\n",
    "\n",
    "\n",
    "## Deadline\n",
    "11:59 pm Nov xx, 2020 \n",
    "\n",
    "##  Content\n",
    "1. Cliff walking example\n",
    "2. Car pole example\n",
    "\n"
   ]
  },
  {
   "cell_type": "markdown",
   "metadata": {},
   "source": [
    "Import Gym and other necessary libraries"
   ]
  },
  {
   "cell_type": "code",
   "execution_count": null,
   "metadata": {},
   "outputs": [],
   "source": [
    "%pylab inline\n",
    "import numpy as np\n",
    "import matplotlib.pyplot as plt\n",
    "import gym\n",
    "from IPython import display\n",
    "import random"
   ]
  },
  {
   "cell_type": "markdown",
   "metadata": {},
   "source": [
    "## 2. Cliff walk example"
   ]
  },
  {
   "cell_type": "markdown",
   "metadata": {},
   "source": [
    "### 2.1 Intro to Cliff walk \n",
    "\n",
    "In this section, we use SARSA and Q-learning algorithm to solve to a cliff walk problem. ( See Sutton&Barto Example 6.6 )\n",
    "\n",
    "The grid is shown below, the black tiles represents wall/obstacles, the white tiles are the non-terminal tiles, and the tile with \"s\" is the starting point of every episoid, the tile with \"G\" is the goal point.\n",
    "\n",
    "The agent start at \"s\" tile. At every step, the agent can choose one of the four actions:\"up\",\"right\",\"down\",\"left\", moving to the next tile in that direction. \n",
    "\n",
    "$\\cdot$ If the next tile is wall/obstacle, the agent does not move and receive -1 reward;\n",
    "\n",
    "$\\cdot$ If the next tile is a non-terminal tile, the agent move to that tile and receive 0 reward;\n",
    "\n",
    "$\\cdot$ If the next tile is the goal tile, the episoid is finished and the agent receive 100 reward (set to be 100 to accelarate the training).\n",
    "\n",
    "$\\cdot$ If the next tile is the cliff, the episoid is finished and the agent receive -100 reward ;"
   ]
  },
  {
   "cell_type": "code",
   "execution_count": 10,
   "metadata": {},
   "outputs": [
    {
     "data": {
      "image/png": "[encoded data removed]",
      "text/plain": [
       "<Figure size 360x360 with 1 Axes>"
      ]
     },
     "metadata": {},
     "output_type": "display_data"
    }
   ],
   "source": [
    "from gridworld2 import GridWorld\n",
    "\n",
    "gw = GridWorld()\n",
    "gw.plot_grid(plot_title='The grid')"
   ]
  },
  {
   "cell_type": "markdown",
   "metadata": {},
   "source": [
    "### 2.1.1 States and state values\n",
    "Excluding the wall around the grid, there are 32 tiles (INCLUDING obstacles inside the grid), and they correspond to 32 states (obstacles and goal are non-reachable states).\n",
    "\n",
    "We use numbers from 0 to 24 to represent these states (see gridworld.py for the coversion between integer and tile position). The correspondance are as shown below:"
   ]
  },
  {
   "cell_type": "code",
   "execution_count": 11,
   "metadata": {},
   "outputs": [
    {
     "data": {
      "image/png": "[encoded data removed]",
      "text/plain": [
       "<Figure size 360x360 with 1 Axes>"
      ]
     },
     "metadata": {},
     "output_type": "display_data"
    }
   ],
   "source": [
    "gw.plot_state_values(np.arange(25),value_format=\"{:d}\",plot_title='Each states as an integer')"
   ]
  },
  {
   "cell_type": "markdown",
   "metadata": {},
   "source": [
    "### 2.1.2 Take actions\n",
    "Use GridWorld.step(action) to take an action, and use GridWorld.reset() to restart an episoid\n",
    "\n",
    "action is an integer from 0 to 3\n",
    "\n",
    "0: \"Up\"; 1: \"Right\"; 2: \"Down\"; 3: \"Left\" "
   ]
  },
  {
   "cell_type": "code",
   "execution_count": 12,
   "metadata": {},
   "outputs": [
    {
     "name": "stdout",
     "output_type": "stream",
     "text": [
      "The current state is 24, which corresponds to tile position (3, 0)\n",
      "\n",
      "Take action 1, get reward -100, move to state 24\n",
      "Now the current state is 24, which corresponds to tile position (3, 0)\n",
      "\n",
      "Reset episode\n",
      "Now the current state is 24, which corresponds to tile position (3, 0)\n"
     ]
    }
   ],
   "source": [
    "gw.reset()\n",
    "\n",
    "current_state = gw.get_current_state()\n",
    "tile_pos = gw.int_to_state(current_state)\n",
    "\n",
    "print(\"The current state is {}, which corresponds to tile position {}\\n\".format(current_state,tile_pos))\n",
    "\n",
    "action = np.random.randint(4)\n",
    "reward, terminated, next_state = gw.step(action)\n",
    "tile_pos = gw.int_to_state(next_state)\n",
    "\n",
    "print(\"Take action {}, get reward {}, move to state {}\".format(action,reward,next_state))\n",
    "print(\"Now the current state is {}, which corresponds to tile position {}\\n\".format(next_state,tile_pos))\n",
    "\n",
    "gw.reset()\n",
    "current_state = gw.get_current_state()\n",
    "tile_pos = gw.int_to_state(current_state)\n",
    "print(\"Reset episode\")\n",
    "print(\"Now the current state is {}, which corresponds to tile position {}\".format(current_state,tile_pos))\n",
    "\n"
   ]
  },
  {
   "cell_type": "markdown",
   "metadata": {},
   "source": [
    "### 2.1.3 Plot Deterministic Policies\n",
    "A deterministic policy is a function from state to action, which can be represented by a (32,)-numpy array whose entries are all integers in (0-3)"
   ]
  },
  {
   "cell_type": "code",
   "execution_count": 5,
   "metadata": {},
   "outputs": [
    {
     "data": {
      "image/png": "[encoded data removed]",
      "text/plain": [
       "<Figure size 360x360 with 1 Axes>"
      ]
     },
     "metadata": {},
     "output_type": "display_data"
    }
   ],
   "source": [
    "gw.plot_policy(np.random.randint(4,size=(32,)),plot_title='A deterministic policy')"
   ]
  },
  {
   "cell_type": "markdown",
   "metadata": {},
   "source": [
    "### 2.2 SARSA & Q_learning\n",
    "\n",
    "1. Implement SARSA algorithm (See Sutton&Barto Section 6.4) on this example for 5000 episodes to learn the optimal policy. \n",
    "   Plot the greedy policy of the learned Q-function using gw.plot_policy()\n",
    "\n",
    "0. Implement Q_learning algorithm (See Sutton&Barto Section 6.5) on this example for 5000 episodes to learn the optimal policy. \n",
    "   Plot the greedy policy of the learned Q-function using gw.plot_policy()\n",
    "0. Plot the total rewards during one episode v.s. number of episodes trained for both SARSA and Q-Learning. Compare the plot to [Sutton & Barto Figure 6.4] (Optional)You may  [1]. Smooth your curve by taking the average of total rewards over successive 50 episodes [2].Avoid adding the artificial \"+100\" goal reward to the total reward to match you figure with the book (Although we need to used goal reward when update the Q-function )\n"
   ]
  },
  {
   "cell_type": "code",
   "execution_count": 6,
   "metadata": {},
   "outputs": [],
   "source": [
    "## Suggested functions (Feel free to modify existing and add new functions)\n",
    "\n",
    "\n",
    "def update_Q(Q, current_idx, next_idx, current_action, next_action, alpha, R, gamma):\n",
    "    # Update Q at the each step\n",
    "    #\n",
    "    # input:  current Q,                    (array) \n",
    "    #         current_idx, next_idx         (array)  states  \n",
    "    #         current_action, next_action   (array)  actions  \n",
    "    #         alpha, R, gamma               (floats) learning rate, reward, discount rate\n",
    "    # output: Updated Q\n",
    "    #         \n",
    "    return Q\n",
    "\n",
    "def get_action(current_idx, Q, epsilon):\n",
    "    \n",
    "    # Choose optimal action based on current state and Q\n",
    "    #\n",
    "    # input:  current_idx     (array) \n",
    "    #         Q,              (array)  \n",
    "    #         epsilon,        (float)  \n",
    "    # output: action\n",
    "    return action"
   ]
  },
  {
   "cell_type": "code",
   "execution_count": 9,
   "metadata": {},
   "outputs": [],
   "source": [
    "## Suggested flow (Feel free to modify and add)\n",
    "## SARSA\n",
    "Q  = np.zeros((25,4))\n",
    "\n",
    "gw.reset()\n",
    "\n",
    "max_ep = 5000\n",
    "\n",
    "total_reward_sarsa = np.zeros(max_ep)\n",
    "\n",
    "epsilon = 0.1\n",
    "alpha = 0.5\n",
    "gamma = 0.9\n",
    "\n",
    "\n",
    "for ep in range(0, max_ep):\n",
    "    gw.reset()\n",
    "    terminated = False\n",
    "\n",
    "    \n",
    "\n",
    "    while terminated == False:\n",
    "        reward, terminated, next_state = gw.step(current_action)\n",
    "        if not reward == 100: total_reward_sarsa[ep] += reward\n",
    "        next_action = get_action(next_state,Q,epsilon)\n",
    "        \n",
    "        Q = update_Q(Q, current_state, next_state, current_action, next_action, alpha, reward, gamma)\n",
    "\n",
    "        \n",
    "        current_state = next_state\n",
    "        current_action = next_action\n"
   ]
  },
  {
   "cell_type": "code",
   "execution_count": 11,
   "metadata": {},
   "outputs": [],
   "source": [
    "## Suggested flow (Feel free to modify and add)\n",
    "## Q_learning\n",
    "Q  = np.zeros((25,4))\n",
    "\n",
    "\n",
    "gw.reset()\n",
    "\n",
    "\n",
    "max_ep = 5000\n",
    "\n",
    "total_reward_qlearning = np.zeros(max_ep)\n",
    "\n",
    "epsilon = 0.1\n",
    "alpha = 0.5\n",
    "gamma = 0.9\n",
    "\n",
    "\n",
    "for ep in range(0, max_ep):\n",
    "    gw.reset()\n",
    "    terminated = False\n",
    "\n",
    "    \n",
    "\n",
    "    while terminated == False:\n",
    "        reward, terminated, next_state = gw.step(current_action)\n",
    "        if not reward == 100: total_reward_qlearning[ep] += reward\n",
    "        max_action = get_action(next_state,Q,0)\n",
    "\n",
    "        \n",
    "        Q = update_Q(Q, current_state, next_state, current_action, max_action, alpha, reward, gamma)\n",
    "\n",
    "        \n",
    "        current_state = next_state"
   ]
  },
  {
   "cell_type": "markdown",
   "metadata": {},
   "source": [
    "## 3. CartPole-v1 "
   ]
  },
  {
   "cell_type": "markdown",
   "metadata": {},
   "source": [
    "### 3.1 CartPole Introduction\n",
    "\n",
    "We now use SARSA and Q-learning to the CartPole problem. \n",
    "\n",
    "\n",
    "1. A pole is attached via an un-actuated joint to a cart, which moves along a frictionless track. \n",
    "\n",
    "0. The system is controlled by applying a force of +1 or -1 to the cart. \n",
    "\n",
    "0. The pole starts at upright position, and the goal is to prevent it from falling over. \n",
    "\n",
    "0. A reward of +1 is obtained for every timestep that the pole remains upright. \n",
    "\n",
    "0. The episode ends when the pole is more than 15 degrees from the vertical, or the cart moves more than 2.4 units from the center.\n",
    "\n",
    "0. For more info (See [SOURCE ON GITHUB](https://github.com/openai/gym/blob/master/gym/envs/classic_control/cartpole.py)).\n",
    "\n",
    "The following examples show the basic usage of this testing environment: \n",
    "\n"
   ]
  },
  {
   "cell_type": "markdown",
   "metadata": {},
   "source": [
    "### 3.1.1 Episode initialization and Initial Value"
   ]
  },
  {
   "cell_type": "code",
   "execution_count": 4,
   "metadata": {},
   "outputs": [
    {
     "name": "stdout",
     "output_type": "stream",
     "text": [
      "Inital observation is [ 0.02615751 -0.03718567 -0.00729112 -0.03547608]\n",
      "\n",
      "This means the cart current position is 0.026157507255325646 with velocity -0.037185670831088306,\n",
      "and the pole current angular position is -0.007291122162308997 with angular velocity -0.035476075259605715,\n"
     ]
    }
   ],
   "source": [
    "env = gym.make('CartPole-v0')\n",
    "observation = env.reset() ##Initial an episode\n",
    "\n",
    "print(\"Inital observation is {}\".format(observation))\n",
    "\n",
    "print(\"\\nThis means the cart current position is {}\".format(observation[0]), end = '')\n",
    "print(\" with velocity {},\".format(observation[1]))\n",
    "\n",
    "print(\"and the pole current angular position is {}\".format(observation[2]), end = '')\n",
    "print(\" with angular velocity {},\".format(observation[3]))\n"
   ]
  },
  {
   "cell_type": "markdown",
   "metadata": {},
   "source": [
    "### 3.1.2 Take actions\n",
    "\n",
    "\n",
    "Use env.step(action) to take an action\n",
    "\n",
    "action is an integer from 0 to 1\n",
    "\n",
    "0: \"Left\"; 1: \"Right\""
   ]
  },
  {
   "cell_type": "code",
   "execution_count": 5,
   "metadata": {},
   "outputs": [
    {
     "name": "stdout",
     "output_type": "stream",
     "text": [
      "Current observation is [ 0.02615751 -0.03718567 -0.00729112 -0.03547608]\n",
      "\n",
      "New observation is [ 0.02541379 -0.23220231 -0.00800064  0.25489754]\n",
      "Step reward is 1.0\n",
      "Did episode just ends? -False\n"
     ]
    }
   ],
   "source": [
    "print(\"Current observation is {}\".format(observation))\n",
    "\n",
    "action = 0 #go left\n",
    "observation, reward, done, info = env.step(action) # simulate one step\n",
    "\n",
    "print(\"\\nNew observation is {}\".format(observation))\n",
    "print(\"Step reward is {}\".format(reward))\n",
    "print(\"Did episode just ends? -{}\".format(done)) # episode ends when 3.1(6) happens\n",
    "\n"
   ]
  },
  {
   "cell_type": "markdown",
   "metadata": {},
   "source": [
    "### 3.1.3 Simulate multiple episodes\n",
    "\n",
    "(You may uncomment those lines to see an animation. However, it will not work for JupyterHub since the animation requires GL instead of webGL. If you have Jupyter notebook localy on your computer, this version of code will work through a virtual frame.)"
   ]
  },
  {
   "cell_type": "code",
   "execution_count": 6,
   "metadata": {},
   "outputs": [
    {
     "name": "stdout",
     "output_type": "stream",
     "text": [
      "Average reward per episode is 22.727272727272727\n"
     ]
    }
   ],
   "source": [
    "env = gym.make('CartPole-v0')\n",
    "observation = env.reset()\n",
    "total_reward = 0\n",
    "ep_num = 0\n",
    "# img = plt.imshow(env.render(mode='rgb_array')) \n",
    "\n",
    "\n",
    "for _ in range(1000):\n",
    "    #     img.set_data(env.render(mode='rgb_array')) \n",
    "    #     display.display(plt.gcf())\n",
    "    #     display.clear_output(wait=True)\n",
    "    \n",
    "    action = env.action_space.sample()     # this takes random actions\n",
    "    observation, reward, done, info = env.step(action) \n",
    "       \n",
    "    total_reward += reward\n",
    "    \n",
    "\n",
    "\n",
    "    if done:                               # episode just ends\n",
    "        observation = env.reset()          # reset episode\n",
    "        ep_num += 1\n",
    "\n",
    "print(\"Average reward per episode is {}\".format(total_reward/ep_num))\n",
    "env.close()\n"
   ]
  },
  {
   "cell_type": "markdown",
   "metadata": {},
   "source": [
    "### 3.1.4 States Discretization \n",
    "\n",
    "The class DiscreteObs() discretizes the observation space into discrete state space, based on numpy.digitize (Please read its description in https://numpy.org/doc/stable/reference/generated/numpy.digitize.html) \n",
    "\n",
    "Discretization of observation space is necessary for tabular methods. You can use DiscreteObs() or any other library for discretizing the observation space. "
   ]
  },
  {
   "cell_type": "code",
   "execution_count": 8,
   "metadata": {},
   "outputs": [
    {
     "name": "stdout",
     "output_type": "stream",
     "text": [
      "Current position of the cart is -0.0132\n",
      "\n",
      "Current velocity of the cart is 0.0150\n",
      "\n",
      "Current angular position of the pole is -0.0021 rad\n",
      "\n",
      "Current angular velocity of the pole is -0.0369 rad\n",
      "\n",
      "which are mapped to state [0, 0, 2, 5], with corresponding index 32\n",
      "index 32 maps to state[0, 0, 2, 5]\n"
     ]
    }
   ],
   "source": [
    "class DiscretObs():\n",
    "    \n",
    "    \n",
    "    def __init__(self, bins_list):\n",
    "        self._bins_list = bins_list\n",
    "        \n",
    "        self._bins_num = len(bins_list)\n",
    "        self._state_num_list = [len(bins)+1 for bins in bins_list]\n",
    "        self._state_num_total = np.prod(self._state_num_list)\n",
    "    \n",
    "    def get_state_num_total(self):\n",
    "        \n",
    "        return self._state_num_total\n",
    "    \n",
    "    def _state_num_list(self):\n",
    "        \n",
    "        return self._state_num_list\n",
    "    \n",
    "    def obs2state(self, obs):\n",
    "        \n",
    "        if not len(obs)==self._bins_num:\n",
    "            raise ValueError(\"observation must have length {}\".format(self._bins_num))\n",
    "        else:\n",
    "            return [np.digitize(obs[i], bins=self._bins_list[i]) for i in range(self._bins_num)]\n",
    "        \n",
    "    def obs2idx(self, obs):\n",
    "        \n",
    "        state = self.obs2state(obs)\n",
    "        \n",
    "        return self.state2idx(state)\n",
    "    \n",
    "    def state2idx(self, state):\n",
    "        \n",
    "        idx = 0\n",
    "        for i in range(self._bins_num-1,-1,-1):\n",
    "            idx = idx*self._state_num_list[i]+state[i]\n",
    "        \n",
    "        return idx\n",
    "    \n",
    "    def idx2state(self, idx):\n",
    "        \n",
    "        state = [None]*self._bins_num\n",
    "        state_num_cumul = np.cumprod(self._state_num_list)\n",
    "        for i in range(self._bins_num-1,0,-1):\n",
    "            state[i] = idx//state_num_cumul[i-1]\n",
    "            idx -=state[i]*state_num_cumul[i-1]\n",
    "        state[0] = idx%state_num_cumul[0]\n",
    "        \n",
    "        return state\n",
    "\n",
    "# Recommended epsilon and learning_rate update (Feel free to modify existing and add new functions)\n",
    "def get_epsilon(t):\n",
    "    return max(0.1, min(1., 1. - math.log10((t + 1) / 25)))\n",
    "\n",
    "def get_learning_rate(t):\n",
    "    return max(0.1, min(1., 1. - math.log10((t + 1) / 25)))\n",
    "\n",
    "\n",
    "\n",
    "# Recommended Discretization for Carpole-v1 when using Monte-Carlo methods\n",
    "bins_pos = []                                       # position\n",
    "bins_d_pos = []                                     # velocity\n",
    "bins_ang = np.linspace(-0.41887903,0.41887903,5)    # angle\n",
    "bins_d_ang = np.linspace(-0.87266,0.87266,11)       # angular velocity\n",
    "\n",
    "dobs = DiscretObs([bins_pos,bins_d_pos,bins_ang,bins_d_ang])\n",
    "observation = env.reset()\n",
    "\n",
    "state = dobs.obs2state(observation)\n",
    "\n",
    "idx = dobs.state2idx(state)\n",
    "\n",
    "\n",
    "print(\"Current position of the cart is {:.4f}\\n\".format(observation[0]))\n",
    "print(\"Current velocity of the cart is {:.4f}\\n\".format(observation[1]))\n",
    "print(\"Current angular position of the pole is {:.4f} rad\\n\".format(observation[2]))\n",
    "print(\"Current angular velocity of the pole is {:.4f} rad\\n\".format(observation[3]))\n",
    "\n",
    "print(\"which are mapped to state {}, with corresponding index {}\".format(state,idx))\n",
    "print(\"index {} maps to state{}\".format(idx,dobs.idx2state(idx)))\n"
   ]
  },
  {
   "cell_type": "markdown",
   "metadata": {},
   "source": [
    "### 2.2 SARSA & Q_learning\n",
    "\n",
    "1. Implement SARSA algorithm (See Sutton&Barto Section 6.4) on this example for 1000 episodes to learn the optimal policy. \n",
    "\n",
    "0. Divide the 1000 traing episodes into 50 sets. Plot the average reward for each set. (i.e. plot the average reward for the first 20 episodes, the second 20 episodes, ..., and the 50th 20 episodes.) \n",
    "\n",
    "0. Implement Q_learning algorithm (See Sutton&Barto Section 6.5) on this example for 1000 episodes to to learn the optimal policy.\n",
    "\n",
    "0. Divide the 1000 traing episodes into 50 sets. Plot the average reward for each set. (i.e. plot the average reward for the first 20 episodes, the second 20 episodes, ..., and the 50th 20 episodes.) \n",
    "\n"
   ]
  },
  {
   "cell_type": "code",
   "execution_count": 20,
   "metadata": {},
   "outputs": [],
   "source": [
    "## Suggested functions (Feel free to modify existing and add new functions)\n",
    "\n",
    "\n",
    "def update_Q(Q, current_idx, next_idx, current_action, next_action, alpha, R, gamma):\n",
    "    # Update Q at the each step\n",
    "    #\n",
    "    # input:  current Q,                    (array) \n",
    "    #         current_idx, next_idx         (array)  states  \n",
    "    #         current_action, next_action   (array)  actions  \n",
    "    #         alpha, R, gamma               (floats) learning rate, reward, discount rate\n",
    "    # output: Updated Q\n",
    "    #         \n",
    "    return Q\n",
    "\n",
    "def get_action(current_idx, Q, epsilon):\n",
    "    \n",
    "    # Choose optimal action based on current state and Q\n",
    "    #\n",
    "    # input:  current_idx     (array) \n",
    "    #         Q,              (array)  \n",
    "    #         epsilon,        (float)  \n",
    "    # output: action\n",
    "    return action\n",
    "\n"
   ]
  },
  {
   "cell_type": "code",
   "execution_count": 21,
   "metadata": {},
   "outputs": [],
   "source": [
    "## Suggested flow (Feel free to modify and add)\n",
    "## SARSA\n",
    "total_reward = 0\n",
    "\n",
    "bins_pos = []\n",
    "bins_d_pos = []\n",
    "bins_ang = np.linspace(-0.41887903,0.41887903,5)\n",
    "bins_d_ang = np.linspace(-0.87266,0.87266,11)\n",
    "\n",
    "dobs = DiscretObs([bins_pos,bins_d_pos,bins_ang,bins_d_ang])\n",
    "\n",
    "env = gym.make('CartPole-v1')\n",
    "observation = env.reset()\n",
    "\n",
    "# Q defined by states\n",
    "# Q = np.zeros((2,dobs._state_num_list[0],dobs._state_num_list[1],dobs._state_num_list[2],dobs._state_num_list[3]))\n",
    "# Q defined by index\n",
    "# Q = np.zeros((2,dobs.get_state_num_total())\n",
    "             \n",
    "count = 0\n",
    "\n",
    "\n",
    "\n",
    "\n",
    "gamma = 0.98\n",
    "result = np.zeros(50)\n",
    "s = 0\n",
    "for ep in range(1000):\n",
    "    if  np.mod(ep,20)==0:\n",
    "        result[s] = total_reward/20\n",
    "        s+=1\n",
    "        total_reward = 0\n",
    "    \n",
    "    observation = env.reset()\n",
    "    \n",
    "#     current_state = dobs.obs2state(observation)\n",
    "#     current_idx = dobs.obs2idx(observation)\n",
    "    \n",
    "    alpha = get_learning_rate(ep)\n",
    "    epsilon = get_epsilon(ep)\n",
    "\n",
    "    \n",
    "    done = False\n",
    "    \n",
    "    while not done:\n",
    "        total_reward += 1\n",
    "        action = \n",
    "        observation, reward, done, info = env.step(action)\n",
    "        \n",
    "#         next_idx = \n",
    "#         next_state = \n",
    "        next_action = \n",
    "        \n",
    "        Q = update_Q(Q, current_idx, next_idx, action, next_action, alpha, reward, gamma)\n",
    "        current_idx = next_idx\n"
   ]
  },
  {
   "cell_type": "code",
   "execution_count": 27,
   "metadata": {},
   "outputs": [],
   "source": [
    "## Suggested flow (Feel free to modify and add)\n",
    "## Q_learning\n",
    "total_reward = 0\n",
    "\n",
    "bins_pos = []\n",
    "bins_d_pos = []\n",
    "bins_ang = np.linspace(-0.41887903,0.41887903,5)\n",
    "bins_d_ang = np.linspace(-0.87266,0.87266,11)\n",
    "\n",
    "dobs = DiscretObs([bins_pos,bins_d_pos,bins_ang,bins_d_ang])\n",
    "\n",
    "env = gym.make('CartPole-v1')\n",
    "observation = env.reset()\n",
    "\n",
    "\n",
    "# Q defined by states\n",
    "# Q = np.zeros((2,dobs._state_num_list[0],dobs._state_num_list[1],dobs._state_num_list[2],dobs._state_num_list[3]))\n",
    "# Q defined by index\n",
    "# Q = np.zeros((2,dobs.get_state_num_total())\n",
    "\n",
    "gamma = 0.98\n",
    "result = np.zeros(50)\n",
    "s = 0\n",
    "for ep in range(1000):\n",
    "    if  np.mod(ep,20)==0:\n",
    "        result[s] = total_reward/20\n",
    "        s+=1\n",
    "        total_reward = 0\n",
    "    \n",
    "    observation = env.reset()\n",
    "    \n",
    "#     current_state = dobs.obs2state(observation)\n",
    "#     current_idx = dobs.obs2idx(observation)\n",
    "\n",
    "    alpha = get_learning_rate(ep)\n",
    "    epsilon = get_epsilon(ep)\n",
    "\n",
    "    \n",
    "    done = False\n",
    "    \n",
    "    while not done:\n",
    "        total_reward += 1\n",
    "        action = \n",
    "        observation, reward, done, info = env.step(action)\n",
    "        \n",
    "#         next_idx = \n",
    "#         nex_state = \n",
    "        max_action = \n",
    "        \n",
    "        Q = update_Q(Q, current_idx, next_idx, action, max_action, alpha, reward, gamma)\n",
    "        current_idx = next_idx"
   ]
  },
  {
   "cell_type": "code",
   "execution_count": null,
   "metadata": {},
   "outputs": [],
   "source": []
  }
 ],
 "metadata": {
  "kernelspec": {
   "display_name": "Python 3",
   "language": "python",
   "name": "python3"
  },
  "language_info": {
   "codemirror_mode": {
    "name": "ipython",
    "version": 3
   },
   "file_extension": ".py",
   "mimetype": "text/x-python",
   "name": "python",
   "nbconvert_exporter": "python",
   "pygments_lexer": "ipython3",
   "version": "3.6.8"
  }
 },
 "nbformat": 4,
 "nbformat_minor": 4
}
