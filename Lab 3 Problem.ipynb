{
 "cells": [
  {
   "cell_type": "markdown",
   "metadata": {},
   "source": [
    "<hr/>\n",
    "\n",
    "# EN.520.637 Foundations of Reinforcement Learning\n",
    "\n",
    "<hr/>"
   ]
  },
  {
   "cell_type": "markdown",
   "metadata": {},
   "source": [
    "<h1><font color=\"darkblue\">Lab 3: Dynamic Programming and Monte Carlo Method  </font></h1>\n",
    "\n",
    "\n",
    "\n",
    "## Deadline\n",
    "11:59 pm Oct 26, 2020 (12 days)\n",
    "\n",
    "##  Content\n",
    "1. Gym environment\n",
    "2. Dynamic Programming (GridWorld)\n",
    "3. Monte Carlo Method\n"
   ]
  },
  {
   "cell_type": "markdown",
   "metadata": {},
   "source": [
    "## 1. Gym library\n",
    "\n",
    "\n",
    "Gym is a toolkit for developing and comparing reinforcement learning algorithms, (see https://gym.openai.com/). A bunch of [classic RL problems](https://gym.openai.com/envs/#classic_control) could be easily simulated. In particular, Gym environment provid all necessary variables (e.g. current state, next state and step reward) and the only thing remains for you to do is choosing action based on different algorithms, (please read https://gym.openai.com/docs/ for more details).\n",
    "\n",
    "Run the following code to install:"
   ]
  },
  {
   "cell_type": "code",
   "execution_count": null,
   "metadata": {},
   "outputs": [],
   "source": [
    "!pip install gym"
   ]
  },
  {
   "cell_type": "code",
   "execution_count": null,
   "metadata": {},
   "outputs": [],
   "source": [
    "%pylab inline\n",
    "import numpy as np\n",
    "import matplotlib.pyplot as plt\n",
    "import gym\n",
    "from IPython import display\n",
    "import random"
   ]
  },
  {
   "cell_type": "markdown",
   "metadata": {},
   "source": [
    "## 2. Dynamic Programming (GridWorld)"
   ]
  },
  {
   "cell_type": "markdown",
   "metadata": {},
   "source": [
    "### 2.1 Intro to GridWorld\n",
    "\n",
    "In this section, we apply policy iteration and value iteration to solve to gridworld problem. \n",
    "\n",
    "The grid is shown below, the black tiles represents wall/obstacles, the white tiles are the non-terminal tiles, and the tile with \"s\" is the starting point of every episoid, the tile with \"5\" is the goal point.\n",
    "\n",
    "The agent start at \"s\" tile. At every step, the agent can choose one of the four actions:\"up\",\"right\",\"down\",\"left\", moving to the next tile in that direction. \n",
    "\n",
    "$\\cdot$ If the next tile is wall/obstacle, the agent does not move and receive -1 reward;\n",
    "\n",
    "$\\cdot$ If the next tile is a non-terminal tile, the agent move to that tile and receive 0 reward;\n",
    "\n",
    "$\\cdot$ If the next tile is the goal tile, the episoid is finished and the agent receive 5 reward."
   ]
  },
  {
   "cell_type": "code",
   "execution_count": 12,
   "metadata": {},
   "outputs": [
    {
     "data": {
      "image/png": "[encoded data removed]",
      "text/plain": [
       "<Figure size 360x360 with 1 Axes>"
      ]
     },
     "metadata": {},
     "output_type": "display_data"
    }
   ],
   "source": [
    "from gridworld import GridWorld\n",
    "\n",
    "gw = GridWorld()\n",
    "gw.plot_grid(plot_title='The grid')"
   ]
  },
  {
   "cell_type": "markdown",
   "metadata": {},
   "source": [
    "### 2.1.1 States and state values\n",
    "Excluding the wall around the grid, there are 56 tiles (INCLUDING obstacles inside the grid), and they correspond to 56 states (obstacles and goal are non-reachable states).\n",
    "\n",
    "We use numbers from 0 to 55 to represent these states (see gridworld.py for the coversion between integer and tile position). The correspondance are as shown below:"
   ]
  },
  {
   "cell_type": "code",
   "execution_count": 13,
   "metadata": {},
   "outputs": [
    {
     "data": {
      "image/png": "[encoded data removed]",
      "text/plain": [
       "<Figure size 360x360 with 1 Axes>"
      ]
     },
     "metadata": {},
     "output_type": "display_data"
    }
   ],
   "source": [
    "gw.plot_state_values(np.arange(56),value_format=\"{:d}\",plot_title='Each states as an integer')"
   ]
  },
  {
   "cell_type": "markdown",
   "metadata": {},
   "source": [
    "### 2.1.2 Take actions\n",
    "Use GridWorld.step(action) to take an action, and use GridWorld.reset() to restart an episoid\n",
    "\n",
    "action is an integer from 0 to 3\n",
    "\n",
    "0: \"Up\"; 1: \"Right\"; 2: \"Down\"; 3: \"Left\" "
   ]
  },
  {
   "cell_type": "code",
   "execution_count": 14,
   "metadata": {},
   "outputs": [
    {
     "name": "stdout",
     "output_type": "stream",
     "text": [
      "The current state is 9, which corresponds to tile position (1, 1)\n",
      "\n",
      "Take action 2, get reward 0.0, move to state 17\n",
      "Now the current state is 17, which corresponds to tile position (2, 1)\n",
      "\n",
      "Reset episode\n",
      "Now the current state is 9, which corresponds to tile position (1, 1)\n"
     ]
    }
   ],
   "source": [
    "gw.reset()\n",
    "\n",
    "current_state = gw.get_current_state()\n",
    "tile_pos = gw.int_to_state(current_state)\n",
    "\n",
    "print(\"The current state is {}, which corresponds to tile position {}\\n\".format(current_state,tile_pos))\n",
    "\n",
    "action = np.random.randint(4)\n",
    "reward, terminated, next_state = gw.step(action)\n",
    "tile_pos = gw.int_to_state(next_state)\n",
    "\n",
    "print(\"Take action {}, get reward {}, move to state {}\".format(action,reward,next_state))\n",
    "print(\"Now the current state is {}, which corresponds to tile position {}\\n\".format(next_state,tile_pos))\n",
    "\n",
    "gw.reset()\n",
    "current_state = gw.get_current_state()\n",
    "tile_pos = gw.int_to_state(current_state)\n",
    "print(\"Reset episode\")\n",
    "print(\"Now the current state is {}, which corresponds to tile position {}\".format(current_state,tile_pos))\n",
    "\n"
   ]
  },
  {
   "cell_type": "markdown",
   "metadata": {},
   "source": [
    "### 2.1.3 Plot Deterministic Policies\n",
    "A deterministic policy is a function from state to action, which can be represented by a (56,)-numpy array whose entries are all integers in (0-3)"
   ]
  },
  {
   "cell_type": "code",
   "execution_count": 15,
   "metadata": {},
   "outputs": [
    {
     "data": {
      "image/png": "[encoded data removed]",
      "text/plain": [
       "<Figure size 360x360 with 1 Axes>"
      ]
     },
     "metadata": {},
     "output_type": "display_data"
    }
   ],
   "source": [
    "gw.plot_policy(np.random.randint(4,size=(56,)),plot_title='A deterministic policy')"
   ]
  },
  {
   "cell_type": "markdown",
   "metadata": {},
   "source": [
    "### 2.2 Policy Evaluation\n",
    "\n",
    "Recall that the value function $v_\\pi(s)$ of a policy $\\pi(s)$ can be iteratively computed via Policy Evaluation (See Sutton&Barto Section 4.1), the iteration is given by $$v_{k+1}(s)=\\sum_{a}\\pi(a|s)\\sum_{s',r}p(s',r|s,a)[r+\\gamma v_{k}(s)]\\,,$$ which can be written as $$\n",
    "    v_{k+1}(s)=\\sum_{a}\\pi(a|s)\\left[\\mathbb{E}_\\pi[r|s,a]+\\sum_{s'}p(s'|s,a)v_k(s')\\right]\\,.\n",
    "$$\n",
    "If we write value function $v_{k+1},v_k$ as vectors, then we have\n",
    "$$\n",
    "    v_{k+1} = \\sum_{a}\\pi(a|s)\\left[R_\\pi(a)+P_\\pi(a)v_{k}\\right]\\,.\n",
    "$$\n",
    "where $R_\\pi(a)$ is the expected reward under action $a$ and  $P_\\pi(a)$ is the transition probability matrix under action $a$. \n",
    "\n",
    "With this we can find the value function $v_\\pi$ of random policy $\\pi$ when discount is 0.9, the code is shown below\n",
    "\n"
   ]
  },
  {
   "cell_type": "code",
   "execution_count": null,
   "metadata": {},
   "outputs": [],
   "source": [
    "pi_a = [0.25,0.25,0.25,0.25] # action proability of random action (for any state)\n",
    "\n",
    "gamma = 0.9\n",
    "max_it = 1000\n",
    "tol = 1e-5\n",
    "v = np.zeros((56,))\n",
    "for i in range(max_it):\n",
    "    value_temp = np.zeros((56,))\n",
    "    for action in range(4):\n",
    "        reward, tran_prob = gw.transition(action)\n",
    "        value_temp = value_temp + pi_a[action]*(reward+gamma* np.matmul(tran_prob,v))\n",
    "    if np.linalg.norm(value_temp-v)<tol:\n",
    "        break\n",
    "    else:\n",
    "        v = value_temp\n",
    "        \n",
    "v_final = v\n",
    "\n",
    "gw.plot_state_values(v,value_format=\"{:.1f}\",plot_title='Value function of Random Policy')\n",
    "\n",
    "# compute and plot the greedy policy of this value function (Hint: first compute Q from v)\n",
    "\n",
    "# write your code here\n"
   ]
  },
  {
   "cell_type": "markdown",
   "metadata": {},
   "source": [
    "### 2.3 Value Iteration\n",
    "\n",
    "Implement Value Iteration Algorithm (Sutton&Barto Section 4.4) to find the optimal policy of this gridworld, and plot its value function\n"
   ]
  },
  {
   "cell_type": "code",
   "execution_count": null,
   "metadata": {},
   "outputs": [],
   "source": [
    "# Value Iteration Algorithm\n",
    "\n",
    "def value_iteration(gridworld, gamma):\n",
    "# input:  gridworld, (GridWorld class) gridworld class describing the environment\n",
    "#         gamma,     (float 0-1) discount of the return\n",
    "# output: optim value,  (1d numpy array, float) optimal value function \n",
    "#         optim_policy, (1d numpy array, int {0,1,2,3}) optimal policy\n",
    "\n",
    "#write your code here\n",
    "    \n",
    "\n",
    "    return optim_value, optim_policy"
   ]
  },
  {
   "cell_type": "code",
   "execution_count": null,
   "metadata": {},
   "outputs": [],
   "source": [
    "# check your result here\n",
    "optim_value, optim_policy = value_iteration(gw, 0.9)\n",
    "gw.plot_state_values(optim_value,value_format=\"{:.1f}\",plot_title='Value function of Random Policy')\n",
    "gw.plot_policy(optim_policy,plot_title='Greedy Policy of Random Policy')"
   ]
  },
  {
   "cell_type": "markdown",
   "metadata": {},
   "source": [
    "## 3. Monte Carlo Method  (CartPole-v1 environment)"
   ]
  },
  {
   "cell_type": "markdown",
   "metadata": {},
   "source": [
    "### 3.1 CartPole Introduction\n",
    "\n",
    "We now apply Monte Carlo Method to the CartPole problem. \n",
    "\n",
    "\n",
    "1. A pole is attached via an un-actuated joint to a cart, which moves along a frictionless track. \n",
    "\n",
    "0. The system is controlled by applying a force of +1 or -1 to the cart. \n",
    "\n",
    "0. The pole starts at upright position, and the goal is to prevent it from falling over. \n",
    "\n",
    "0. A reward of +1 is obtained for every timestep that the pole remains upright. \n",
    "\n",
    "0. The episode ends when the pole is more than 15 degrees from the vertical, or the cart moves more than 2.4 units from the center.\n",
    "\n",
    "0. For more info (See [SOURCE ON GITHUB](https://github.com/openai/gym/blob/master/gym/envs/classic_control/cartpole.py)).\n",
    "\n",
    "The following examples show the basic usage of this testing environment: \n",
    "\n"
   ]
  },
  {
   "cell_type": "markdown",
   "metadata": {},
   "source": [
    "### 3.1.1 Episode initialization and Initial Value"
   ]
  },
  {
   "cell_type": "code",
   "execution_count": 16,
   "metadata": {},
   "outputs": [
    {
     "name": "stdout",
     "output_type": "stream",
     "text": [
      "Inital observation is [ 0.03472954 -0.02706774  0.01980837 -0.04862776]\n",
      "\n",
      "This means the cart current position is 0.03472954227217041 with velocity -0.027067735180598497,\n",
      "and the pole current angular position is 0.01980837406919167 with angular velocity -0.048627761309786924,\n"
     ]
    }
   ],
   "source": [
    "env = gym.make('CartPole-v0')\n",
    "observation = env.reset() ##Initial an episode\n",
    "\n",
    "print(\"Inital observation is {}\".format(observation))\n",
    "\n",
    "print(\"\\nThis means the cart current position is {}\".format(observation[0]), end = '')\n",
    "print(\" with velocity {},\".format(observation[1]))\n",
    "\n",
    "print(\"and the pole current angular position is {}\".format(observation[2]), end = '')\n",
    "print(\" with angular velocity {},\".format(observation[3]))\n"
   ]
  },
  {
   "cell_type": "markdown",
   "metadata": {},
   "source": [
    "### 3.1.2 Take actions\n",
    "\n",
    "\n",
    "Use env.step(action) to take an action\n",
    "\n",
    "action is an integer from 0 to 1\n",
    "\n",
    "0: \"Left\"; 1: \"Right\""
   ]
  },
  {
   "cell_type": "code",
   "execution_count": 17,
   "metadata": {},
   "outputs": [
    {
     "name": "stdout",
     "output_type": "stream",
     "text": [
      "Current observation is [ 0.03472954 -0.02706774  0.01980837 -0.04862776]\n",
      "\n",
      "New observation is [ 0.03418819 -0.22246804  0.01883582  0.25023847]\n",
      "Step reward is 1.0\n",
      "Did episode just ends? -False\n"
     ]
    }
   ],
   "source": [
    "print(\"Current observation is {}\".format(observation))\n",
    "\n",
    "action = 0 #go left\n",
    "observation, reward, done, info = env.step(action) # simulate one step\n",
    "\n",
    "print(\"\\nNew observation is {}\".format(observation))\n",
    "print(\"Step reward is {}\".format(reward))\n",
    "print(\"Did episode just ends? -{}\".format(done)) # episode ends when 3.1(6) happens\n",
    "\n"
   ]
  },
  {
   "cell_type": "markdown",
   "metadata": {},
   "source": [
    "### 3.1.3 Simulate multiple episodes\n",
    "\n",
    "(You may uncomment those lines to see an animation. However, it will not work for JupyterHub since the animation requires GL instead of webGL. If you have Jupyter notebook localy on your computer, this version of code will work through a virtual frame.)"
   ]
  },
  {
   "cell_type": "code",
   "execution_count": 8,
   "metadata": {},
   "outputs": [
    {
     "name": "stdout",
     "output_type": "stream",
     "text": [
      "Average reward per episode is 20.833333333333332\n"
     ]
    }
   ],
   "source": [
    "env = gym.make('CartPole-v0')\n",
    "observation = env.reset()\n",
    "total_reward = 0\n",
    "ep_num = 0\n",
    "# img = plt.imshow(env.render(mode='rgb_array')) \n",
    "\n",
    "\n",
    "for _ in range(1000):\n",
    "    #     img.set_data(env.render(mode='rgb_array')) \n",
    "    #     display.display(plt.gcf())\n",
    "    #     display.clear_output(wait=True)\n",
    "    \n",
    "    action = env.action_space.sample()     # this takes random actions\n",
    "    observation, reward, done, info = env.step(action) \n",
    "       \n",
    "    total_reward += reward\n",
    "    \n",
    "\n",
    "\n",
    "    if done:                               # episode just ends\n",
    "        observation = env.reset()          # reset episode\n",
    "        ep_num += 1\n",
    "\n",
    "print(\"Average reward per episode is {}\".format(total_reward/ep_num))\n",
    "env.close()\n"
   ]
  },
  {
   "cell_type": "markdown",
   "metadata": {},
   "source": [
    "### 3.1.4 States Discretization \n",
    "\n",
    "The class DiscreteObs() discretizes the observation space into discrete state space, based on numpy.digitize (Please read its description in https://numpy.org/doc/stable/reference/generated/numpy.digitize.html) \n",
    "\n",
    "Discretization of observation space is necessary for tabular methods. You can use DiscreteObs() or any other library for discretizing the observation space. "
   ]
  },
  {
   "cell_type": "code",
   "execution_count": 18,
   "metadata": {},
   "outputs": [
    {
     "name": "stdout",
     "output_type": "stream",
     "text": [
      "Current position of the cart is -0.0460\n",
      "\n",
      "Current velocity of the cart is -0.0451\n",
      "\n",
      "Current angular position of the pole is -0.0479 rad\n",
      "\n",
      "Current angular velocity of the pole is -0.0100 rad\n",
      "\n",
      "which are mapped to state [20, 2, 16, 2], with corresponding index 24210\n"
     ]
    }
   ],
   "source": [
    "class DiscretObs():\n",
    "    \n",
    "    \n",
    "    def __init__(self, bins_list):\n",
    "        self._bins_list = bins_list\n",
    "        \n",
    "        self._bins_num = len(bins_list)\n",
    "        self._state_num_list = [len(bins)+1 for bins in bins_list]\n",
    "        self._state_num_total = np.prod(self._state_num_list)\n",
    "    \n",
    "    def get_state_num_total(self):\n",
    "        \n",
    "        return self._state_num_total\n",
    "    \n",
    "    def obs2state(self, obs):\n",
    "        \n",
    "        if not len(obs)==self._bins_num:\n",
    "            raise ValueError(\"observation must have length {}\".format(self._bins_num))\n",
    "        else:\n",
    "            return [np.digitize(obs[i], bins=self._bins_list[i]) for i in range(self._bins_num)]\n",
    "        \n",
    "    def obs2idx(self, obs):\n",
    "        \n",
    "        state = self.obs2state(obs)\n",
    "        \n",
    "        return self.state2idx(state)\n",
    "    \n",
    "    def state2idx(self, state):\n",
    "        \n",
    "        idx = 0\n",
    "        for i in range(self._bins_num-1,-1,-1):\n",
    "            idx = idx*self._state_num_list[i]+state[i]\n",
    "        \n",
    "        return idx\n",
    "    \n",
    "    def idx2state(self, idx):\n",
    "        \n",
    "        state = [None]*self._bins_num\n",
    "        state_num_cumul = np.cumprod(self._state_num_list)\n",
    "        for i in range(self._bins_num-1,0,-1):\n",
    "            state[i] = idx/state_num_cumul[i-1]\n",
    "            idx -=state[i]*state_num_cumul[i-1]\n",
    "        state[0] = idx%state_num_cumul[0]\n",
    "        \n",
    "        return state\n",
    "\n",
    "# Recommended Discretization for Carpole-v1 when using Monte-Carlo methods\n",
    "bins_pos = np.linspace(-2.4,2.4,40)        # position\n",
    "bins_d_pos = np.linspace(-3,3,5)           # velocity\n",
    "bins_ang = np.linspace(-0.2618,0.2618,40)  # angle\n",
    "bins_d_ang = np.linspace(-0.3,0.3,5)       # angular velocity\n",
    "\n",
    "dobs = DiscretObs([bins_pos,bins_d_pos,bins_ang,bins_d_ang])\n",
    "observation = env.reset()\n",
    "\n",
    "state = dobs.obs2state(observation)\n",
    "idx = dobs.obs2idx(observation)\n",
    "\n",
    "print(\"Current position of the cart is {:.4f}\\n\".format(observation[0]))\n",
    "print(\"Current velocity of the cart is {:.4f}\\n\".format(observation[1]))\n",
    "print(\"Current angular position of the pole is {:.4f} rad\\n\".format(observation[2]))\n",
    "print(\"Current angular velocity of the pole is {:.4f} rad\\n\".format(observation[3]))\n",
    "\n",
    "print(\"which are mapped to state {}, with corresponding index {}\".format(state,idx))\n"
   ]
  },
  {
   "cell_type": "markdown",
   "metadata": {},
   "source": [
    "### 3.2 On-policy first-visit MC control\n",
    "\n",
    "1. Implement \"On-policy first-visit MC control\" algorithum in [Chap. 5.4 Sutton&Barto]\n",
    "2. Simulate this algorithm for 40000 episodes.\n",
    "3. Divide the previous 40000 episodes into 20 sets. Plot the average reward for each set. (i.e. plot the average reward for the first 2000 episodes, the second 2000 episodes, ..., and the 15th 2000 episodes.) \n",
    "4. Use greedy policy of the trained Q function to control the carpole for 100 episodes, plot the accumulate reward over 100 episodes\n"
   ]
  },
  {
   "cell_type": "code",
   "execution_count": null,
   "metadata": {},
   "outputs": [],
   "source": [
    "## Suggested functions (Feel free to modify existing and add new functions)\n",
    "\n",
    "def get_action(current_state, Q, epsilon):\n",
    "    \n",
    "    # Choose optimal action based on current state and Q\n",
    "    #\n",
    "    # input:  current state,  (array) \n",
    "    #         Q,              (array)  \n",
    "    #         epsilonn,       (float)  \n",
    "    # output: action\n",
    "    #         \n",
    "    return action\n",
    "\n",
    "\n",
    "\n",
    "def update_Q(Q, observation_list, action_list):\n",
    "    # Update Q at the end of each episode\n",
    "    #\n",
    "    # input:  current Q, (array) \n",
    "    #         observation_list,       (array)  states observed in this episode\n",
    "    #         action_list,       (array)  actions took in this spisode\n",
    "    # output: Updated Q\n",
    "    #         \n",
    "\n",
    "        \n",
    "    return Q\n",
    "\n",
    "\n",
    "## Suggested flow (Feel free to modify and add)\n",
    "\n",
    "# parameters for epsilon-greedy algorithm, when epsilon_decay_rate=1, the algorothm implement a fixed \n",
    "# epsilon value as epsilon_start, you can choose either fixed epsilon or decaying epsilon\n",
    "\n",
    "# epsilon_start = 0.3\n",
    "# epsilon_decay_rate = 0.97\n",
    "\n",
    "set_num = 30\n",
    "s = 0\n",
    "env = gym.make('CartPole-v1')\n",
    "observation = env.reset()\n",
    "\n",
    "#epsilon = epsilon_start   # set epsilon\n",
    "\n",
    "while 1:\n",
    "    \n",
    "    \n",
    "    current_state =                             # discretize the observation space\n",
    "    \n",
    "    action = get_action(current_state,Q,epsilon)# pick action by epsilon greedy policy\n",
    "    \n",
    "    observation, reward, done, info = env.step(action) # simulate one step\n",
    "    \n",
    "    if done:  # end of epsode\n",
    "        Q = update_Q(Q, observation_list, action_list) # update Q for past observations in the episode\n",
    "        \n",
    "        ep_num += 1\n",
    "        \n",
    "        if  np.mod(ep_num,2000)==0: # end of every set of episode\n",
    "            \n",
    "            #epsilon = epsilon*epsilon_decay_rate     # update epsilon\n",
    "            s+=1\n",
    "            \n",
    "            if s == set_num:\n",
    "                break\n",
    "env.close()"
   ]
  },
  {
   "cell_type": "code",
   "execution_count": null,
   "metadata": {},
   "outputs": [],
   "source": [
    "# check your result here (Feel free to modify)\n",
    "# the result_mc should be a (set_num, )-numpy array that records the average reward of a set of episodes \n",
    "\n",
    "# put your result here\n",
    "font = {'weight' : 'bold',\n",
    "        'size'   : 15}\n",
    "matplotlib.rc('font', **font)\n",
    "\n",
    "figure(figsize=(12,6))\n",
    "ax = subplot(1,1,1)\n",
    "ax.plot(range(0,set_num), result_mc, linewidth=2, color='g')\n",
    "\n",
    "plt.ylabel(\"Set average reward\");\n",
    "plt.xlabel(\"Set number (2000 episodes simulated in each set)\");\n"
   ]
  },
  {
   "cell_type": "code",
   "execution_count": null,
   "metadata": {},
   "outputs": [],
   "source": [
    "# Use greedy policy of the trained Q function to control the carpole for 100 episode, \n",
    "# and plot the total reward received in each episode\n",
    "## Suggested flow (Feel free to modify and add)\n",
    "\n",
    "env = gym.make('CartPole-v1')\n",
    "observation = env.reset()\n",
    "\n",
    "# img = plt.imshow(env.render(mode='rgb_array')) \n",
    "\n",
    "count = 0\n",
    "while 1:\n",
    "    #     img.set_data(env.render(mode='rgb_array')) \n",
    "    #     display.display(plt.gcf())\n",
    "    #     display.clear_output(wait=True)\n",
    "    \n",
    "    current_state =                             # discretize the observation space\n",
    "    \n",
    "    action =                                    # choose action by greedy policy of the trained Q\n",
    "    \n",
    "    observation, reward, done, info = env.step(action)\n",
    "    \n",
    "    \n",
    "    if done:\n",
    "        \n",
    "        observation = env.reset()\n",
    "        count +=1\n",
    "        \n",
    "        total_reward_mc =                                # record the total reward until this episode\n",
    "        \n",
    "        if count==100:\n",
    "            break\n",
    "        \n",
    "font = {'weight' : 'bold',\n",
    "        'size'   : 15}\n",
    "matplotlib.rc('font', **font)\n",
    "\n",
    "figure(figsize=(12,6))\n",
    "ax = subplot(1,1,1)\n",
    "ax.plot(range(100), total_reward_mc)\n",
    "\n",
    "plt.ylabel(\"Accumulate Reward\");\n",
    "plt.xlabel(\"Episode\");\n",
    "    "
   ]
  },
  {
   "cell_type": "markdown",
   "metadata": {},
   "source": [
    "### 3.3 MC Control with partially observed states\n",
    "\n",
    "Now suppose we are only able to observe the position of the cart and angle of the pole, i.e. observation[0] and observation[2]. Using same state discretization for these two states in 3.2, run MC control:\n",
    "\n",
    "1.Simulate this algorithm for 40000 episodes.\n",
    "\n",
    "2.Divide the previous 40000 episodes into 20 sets. Plot average rewards for each sets. (i.e. plot average rewards for the first 2000 episodes, the second 2000 episodes, ..., and the 15th 2000 episodes.).\n",
    "\n",
    "3.Use greedy policy of the trained Q function to control the carpole for 100 episode, plot the accumulate rewards over 100 episodes, and compare it with one from 3.2 in the same figure."
   ]
  },
  {
   "cell_type": "code",
   "execution_count": null,
   "metadata": {},
   "outputs": [],
   "source": [
    "## Suggested flow (Feel free to modify and add)\n",
    "\n",
    "# parameters for epsilon-greedy algorithm, when epsilon_decay_rate=1, the algorothm implement a fixed \n",
    "# epsilon value as epsilon_start, you can choose either fixed epsilon or decaying epsilon\n",
    "\n",
    "# epsilon_start = 0.3\n",
    "# epsilon_decay_rate = 0.97\n",
    "\n",
    "set_num = 30\n",
    "s = 0\n",
    "env = gym.make('CartPole-v1')\n",
    "\n",
    "observation = env.reset()\n",
    "observation = observation([[0,2]])  # partially observed states\n",
    "\n",
    "#epsilon = epsilon_start   # set epsilon\n",
    "\n",
    "while 1:\n",
    "    \n",
    "    \n",
    "    current_state =                             # discretize the observation space\n",
    "    \n",
    "    action = get_action(current_state,Q,epsilon)# pick action by epsilon greedy policy\n",
    "    \n",
    "    observation, reward, done, info = env.step(action) # simulate one step\n",
    "    observation = observation([[0,2]])  # partially observed states\n",
    "    \n",
    "    if done:  # end of epsode\n",
    "        Q = update_Q(Q, observation_list, action_list) # update Q for past observations in the episode\n",
    "        \n",
    "        ep_num += 1\n",
    "        \n",
    "        if  np.mod(ep_num,2000)==0: # end of every set of episode\n",
    "            \n",
    "            #epsilon = epsilon*epsilon_decay_rate     # update epsilon\n",
    "            s+=1\n",
    "            \n",
    "            if s == set_num:\n",
    "                break\n",
    "env.close()"
   ]
  },
  {
   "cell_type": "code",
   "execution_count": null,
   "metadata": {},
   "outputs": [],
   "source": [
    "# check your result here (Feel free to modify)\n",
    "# the result_p_mc should be a (set_num, )-numpy array that records the average reward of a set of episodes \n",
    "\n",
    "# put your result here\n",
    "font = {'weight' : 'bold',\n",
    "        'size'   : 15}\n",
    "matplotlib.rc('font', **font)\n",
    "\n",
    "figure(figsize=(12,6))\n",
    "ax = subplot(1,1,1)\n",
    "ax.plot(range(0,set_num), result_p_mc, linewidth=2, color='g')\n",
    "\n",
    "plt.ylabel(\"Set average reward\");\n",
    "plt.xlabel(\"Set number (2000 episodes simulated in each set)\");"
   ]
  },
  {
   "cell_type": "code",
   "execution_count": null,
   "metadata": {},
   "outputs": [],
   "source": [
    "# Use greedy policy of the trained Q function to control the carpole for 100 episode, \n",
    "# and plot the accumulate reward\n",
    "## Suggested flow (Feel free to modify and add)\n",
    "\n",
    "env = gym.make('CartPole-v1')\n",
    "observation = env.reset()\n",
    "observation = observation([[0,2]])          # partially observed states\n",
    "# img = plt.imshow(env.render(mode='rgb_array')) \n",
    "\n",
    "count = 0\n",
    "while 1:\n",
    "    #     img.set_data(env.render(mode='rgb_array')) \n",
    "    #     display.display(plt.gcf())\n",
    "    #     display.clear_output(wait=True)\n",
    "    \n",
    "    current_state =                             # discretize the observation space\n",
    "    \n",
    "    action =                                    # choose action by greedy policy of the trained Q\n",
    "    \n",
    "    observation, reward, done, info = env.step(action)\n",
    "    observation = observation([[0,2]])          # partially observed states\n",
    "    \n",
    "    if done:\n",
    "        \n",
    "        observation = env.reset()\n",
    "        count +=1\n",
    "        \n",
    "        total_reward_p_mc =                                # record the accumulate reward until this episode\n",
    "        \n",
    "        if count==100:\n",
    "            break\n",
    "        \n",
    "font = {'weight' : 'bold',\n",
    "        'size'   : 15}\n",
    "matplotlib.rc('font', **font)\n",
    "\n",
    "figure(figsize=(12,6))\n",
    "ax = subplot(1,1,1)\n",
    "ax.plot(range(100), total_reward_p_mc,range(100), total_reward_mc) # compare with section 3.2\n",
    "\n",
    "plt.ylabel(\"Accumulate Reward\");\n",
    "plt.xlabel(\"Episode\");"
   ]
  }
 ],
 "metadata": {
  "kernelspec": {
   "display_name": "Python 3",
   "language": "python",
   "name": "python3"
  },
  "language_info": {
   "codemirror_mode": {
    "name": "ipython",
    "version": 3
   },
   "file_extension": ".py",
   "mimetype": "text/x-python",
   "name": "python",
   "nbconvert_exporter": "python",
   "pygments_lexer": "ipython3",
   "version": "3.6.8"
  }
 },
 "nbformat": 4,
 "nbformat_minor": 4
}
